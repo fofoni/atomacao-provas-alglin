{
 "cells": [
  {
   "cell_type": "code",
   "execution_count": null,
   "metadata": {},
   "outputs": [],
   "source": [
    "import numpy as np\n",
    "import matplotlib.pyplot as plt\n",
    "import pandas as pd\n",
    "\n",
    "import report\n",
    "\n",
    "from IPython.display import display\n",
    "\n",
    "plt.rcParams.update({'font.size': 22})"
   ]
  },
  {
   "cell_type": "code",
   "execution_count": null,
   "metadata": {},
   "outputs": [],
   "source": [
    "df = report.pauta_com_notas()\n",
    "with pd.option_context(\"display.max_rows\", 10000):\n",
    "    #display(df.drop(['chamada', 'respostas', 'gabarito'], axis=1))\n",
    "    display(df[['nomecompleto', 'status', 'nota']])"
   ]
  },
  {
   "cell_type": "markdown",
   "metadata": {},
   "source": [
    "Categorias:\n",
    "* `noshow`: faltou a prova\n",
    "* `one_attempt`: enviou exatamente uma tentativa\n",
    "* `only_empty_attempts`: enviou pelo menos uma tentativa, e todas essas tentativas tinham somente questões em branco\n",
    "* `no_positive_attempts`: pelo menos uma tentativa, e todas as tentativas tinham somente questões em branco ou \"Nâo sei.\"\n",
    "* `one_positive_attempt`: pelo menos uma tentativa, e exatamente uma das tentativas foi não-vazia (i.e. tinha pelo menos uma questão respondida, e a resposta não era \"Não sei.\")\n",
    "* `lastpos_atmost1_nonpos`: pelo menos duas tentativas não-vazias, e na última das tentativas não-vazias a quantidade de questões em branco (ou \"Não sei.\") foi 0 ou 1."
   ]
  },
  {
   "cell_type": "code",
   "execution_count": null,
   "metadata": {},
   "outputs": [],
   "source": [
    "stats = df['status'].value_counts()\n",
    "ax = stats.plot(kind='bar', figsize=(12, 8))\n",
    "for i, (status, count) in enumerate(stats.iteritems()):\n",
    "    ax.text(i, count, str(count), va='bottom', ha='center')\n",
    "ax.grid()\n",
    "ax.xaxis.set_tick_params(rotation=25)"
   ]
  },
  {
   "cell_type": "markdown",
   "metadata": {},
   "source": [
    "# Notas"
   ]
  },
  {
   "cell_type": "code",
   "execution_count": null,
   "metadata": {},
   "outputs": [],
   "source": [
    "delta = 10 / report.num_items\n",
    "ax = df['nota'].hist(\n",
    "    bins=np.linspace(-delta/2, 10 + delta/2,\n",
    "                     num=report.num_items + 2),\n",
    "    figsize=(12, 8))"
   ]
  },
  {
   "cell_type": "code",
   "execution_count": null,
   "metadata": {},
   "outputs": [],
   "source": [
    "print(f\"Média:  {df['nota'].mean():.3}\")\n",
    "print(f\"Stddev: {df['nota'].std():.3}\")"
   ]
  },
  {
   "cell_type": "markdown",
   "metadata": {},
   "source": [
    "# Estatísticas por questão"
   ]
  },
  {
   "cell_type": "code",
   "execution_count": null,
   "metadata": {},
   "outputs": [],
   "source": [
    "stats_respostas = []\n",
    "for num_item in range(report.num_items):\n",
    "    certas = 0\n",
    "    erradas = 0\n",
    "    naosei = 0\n",
    "    submissões_válidas = 0\n",
    "    for row in df.itertuples():\n",
    "        if row.respostas is pd.StringDtype().na_value:\n",
    "            continue\n",
    "        idx = [int(x) for x in row.perm.split('-')].index(num_item)\n",
    "        resposta = row.respostas.split('-')[idx]\n",
    "        gabarito = row.gabarito.split('-')[idx]\n",
    "        if resposta in gabarito:\n",
    "            certas += 1\n",
    "        if resposta != 'N' and resposta not in gabarito:\n",
    "            erradas += 1\n",
    "        if resposta == 'N':\n",
    "            naosei += 1\n",
    "        submissões_válidas += 1\n",
    "    stats_respostas.append({\n",
    "        'certas': certas,\n",
    "        'erradas': erradas,\n",
    "        'naosei': naosei,\n",
    "    })\n",
    "stats_respostas = pd.DataFrame(stats_respostas)\n",
    "stats_respostas"
   ]
  },
  {
   "cell_type": "code",
   "execution_count": null,
   "metadata": {},
   "outputs": [],
   "source": [
    "for num_item, row in stats_respostas.iterrows():\n",
    "    fig, ax = plt.subplots(1, 1, figsize=(12, 8))\n",
    "    ax = row.plot(kind='bar', ax=ax)\n",
    "    #ax.set_ylim([0, 100])\n",
    "    for i, (status, count) in enumerate(row.iteritems()):\n",
    "        ax.text(i, count, f\"{count/submissões_válidas:.1%}\",\n",
    "                va='bottom', ha='center')\n",
    "    ax.grid()\n",
    "    ax.xaxis.set_tick_params(rotation=0)\n",
    "    ax.set_title(f\"Questão {num_item + 1}\")"
   ]
  },
  {
   "cell_type": "code",
   "execution_count": null,
   "metadata": {},
   "outputs": [],
   "source": [
    "row = stats_respostas.sum()\n",
    "ax = row.plot(kind='bar', figsize=(12, 8))\n",
    "for i, (status, count) in enumerate(row.iteritems()):\n",
    "    ax.text(i, count, f\"{count/submissões_válidas/report.num_items:.1%}\",\n",
    "            va='bottom', ha='center')\n",
    "ax.grid()\n",
    "ax.xaxis.set_tick_params(rotation=0)\n",
    "ax.set_title(f\"Total\");"
   ]
  },
  {
   "cell_type": "code",
   "execution_count": null,
   "metadata": {},
   "outputs": [],
   "source": [
    "df[['dre', 'respostas', 'gabarito', 'nota']].to_csv(\n",
    "    'Notas.csv', index=False)"
   ]
  }
 ],
 "metadata": {
  "kernelspec": {
   "display_name": "Python 3",
   "language": "python",
   "name": "python3"
  },
  "language_info": {
   "codemirror_mode": {
    "name": "ipython",
    "version": 3
   },
   "file_extension": ".py",
   "mimetype": "text/x-python",
   "name": "python",
   "nbconvert_exporter": "python",
   "pygments_lexer": "ipython3",
   "version": "3.8.5"
  }
 },
 "nbformat": 4,
 "nbformat_minor": 4
}
